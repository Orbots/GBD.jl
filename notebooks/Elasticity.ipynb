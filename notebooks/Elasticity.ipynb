{
 "cells": [
  {
   "cell_type": "code",
   "execution_count": 3,
   "metadata": {},
   "outputs": [],
   "source": [
    "using Multivectors, LinearAlgebra\n",
    "\n",
    "# quick and dirty exponential function\n",
    "Base.exp(k::Multivectors.CliffordNumber) = 1.0+k +k*k/2 + k*k*k/6 + k*k*k*k/24 + k*k*k*k*k/(24*5)"
   ]
  },
  {
   "cell_type": "code",
   "execution_count": 4,
   "metadata": {},
   "outputs": [],
   "source": [
    "# based on \"On the Clifford Algebraic Description of the Geometry of a 3D Euclidean Space\"\n",
    "# https://arxiv.org/pdf/1908.08110.pdf\n",
    "# we will work with vectors in Cl(2,0) but map them to Cl(2,2) before acting on with versors then back\n",
    "# can do this because the coordinates for the + algebra are identical to the - algebra for vectors and points\n",
    "@generate_basis(\"++--\")"
   ]
  },
  {
   "cell_type": "code",
   "execution_count": 6,
   "metadata": {},
   "outputs": [],
   "source": [
    "\n",
    "# map vector from C(2,0) into balanced algebra C(2,2)\n",
    "function γ(v::KVector)\n",
    "    x,y = coords(v)\n",
    "    # not sure why we need to turn into a paravector here, paper seems to indicate vectors should be scalable\n",
    "    1.0 + x*(0.5e₁+0.5e₃) + y*(0.5e₂+0.5e₄)\n",
    "end\n",
    "\n",
    "# map from balanced algebra C(2,2) back to C(2,0)\n",
    "α(g) = 2.0*sum(map((xᵢ,eᵢ)->xᵢ*eᵢ, coords((g/g[0])[1])[1:2], [e₁, e₂]))\n",
    "\n",
    "# non-uniform scaling Versor in Cl(2,2). from section 5.5\n",
    "scalor(x,y) = exp(-log(x)*e₁₃/2)*exp(-log(y)*e₂₄/2)\n",
    "\n",
    "# sandwich product for applying versors\n",
    "Base.:(>>>)(V, p) = α(V*γ(p)*reverse(V))"
   ]
  },
  {
   "cell_type": "code",
   "execution_count": 7,
   "metadata": {},
   "outputs": [
    {
     "data": {
      "text/plain": [
       "2-element KVector{Float64,1,2}:\n",
       " 0.49999927383968795e₁\n",
       "   6.000224127920335e₂"
      ]
     },
     "execution_count": 7,
     "metadata": {},
     "output_type": "execute_result"
    }
   ],
   "source": [
    "scalor(0.5, 3.0) >>> (1.0e₁ + 2.0e₂)"
   ]
  },
  {
   "cell_type": "code",
   "execution_count": null,
   "metadata": {},
   "outputs": [],
   "source": []
  }
 ],
 "metadata": {
  "kernelspec": {
   "display_name": "Julia 1.5.0",
   "language": "julia",
   "name": "julia-1.5"
  },
  "language_info": {
   "file_extension": ".jl",
   "mimetype": "application/julia",
   "name": "julia",
   "version": "1.5.0"
  }
 },
 "nbformat": 4,
 "nbformat_minor": 4
}
