{
 "cells": [
  {
   "cell_type": "markdown",
   "metadata": {},
   "source": [
    "# Position Based Dynamics\n",
    "\n",
    "We will follow along with this presentation of PBD: https://matthias-research.github.io/pages/publications/posBasedDyn.pdf\n",
    "\n",
    "The basic equations for position based dynamics converted to Geometric Algebra are very similar.  \n",
    "\n",
    "The gradient operator in GA using index notation is $e_i \\partial_i$\n",
    "\n",
    "To formulate a Constraint Projection solver we start with a constraint equation, $C(p)$, that take positions as arguments and will equal zero when it is satisfied.\n",
    "\n",
    "Taylor expansion of a scalar valued function using the differential\n",
    "\n",
    "$C(p + \\Delta p) \\approx C(p) + \\Delta p_i \\partial_i C(p) = 0$ &emsp; &emsp; (1)\n",
    "\n",
    "We want the gradient operator to appear.  We use the fact that, for our euclidean basis,\n",
    "\n",
    "$e_i \\cdot e_j = \\delta_{ij}$ &emsp; &emsp; (2) \n",
    "\n",
    "Note: if we were using a non-euclidean metric, this would need to be modified.\n",
    "\n",
    "$C(p) + \\Delta p_i e_i \\cdot e_i \\partial_i C(p) = C(p) + \\Delta p \\cdot \\nabla C(p) = 0$ &emsp; &emsp; (3)\n",
    "\n",
    "Ok, we've recovered the first Position Based Dynamics formula, while setting ourselves up for extension to non-eucledian metrics.\n",
    "\n",
    "$\\Delta p = \\lambda \\nabla C(p)$   &emsp; &emsp; (4)\n",
    "    \n",
    "Solving for $\\Delta p$ in terms of known values gives\n",
    "\n",
    "$\\Delta p = \\frac{-C(p)}{\\nabla C(p) \\cdot \\nabla C(p)} \\nabla C(p)$ &emsp; &emsp; (5)\n"
   ]
  },
  {
   "cell_type": "markdown",
   "metadata": {},
   "source": [
    "## G(n,0,0) the algebra of directions \n",
    "\n",
    "The most familiar algebra for Position Based Dynamics will be G(n,0,0). This means all the basis vectors square to 1.  This is the metric of euclidean space.\n",
    "\n",
    "The gradient operator is slightly different.  Rather than organizing the resulting partial derivatives in a column vector, partials are attached to basis vectors.\n",
    "\n",
    "$\\nabla f(p) = e_1 \\partial_x f(p) + e_2 \\partial_y f(p) + e_3 \\partial_z f(p)$\n",
    "\n",
    "rather than\n",
    "\n",
    "$\\nabla f(p) = \\begin{bmatrix}\n",
    "\\partial_x f(p) \\\\ \n",
    "\\partial_y f(p)\\\\ \n",
    "\\partial_z f(p)\n",
    "\\end{bmatrix}$\n",
    "\n",
    "we will use (1,2,3) rather than (x,y,z) to specify partial derivatives from now on.\n",
    "\n",
    "If you wish you can treat the gradient operator as a 1-vector in GA just as you can in Linear Algebra."
   ]
  },
  {
   "cell_type": "code",
   "execution_count": null,
   "metadata": {},
   "outputs": [],
   "source": []
  },
  {
   "cell_type": "markdown",
   "metadata": {},
   "source": [
    "## G(n,0,1) the algebra of planes.  aka PGA\n",
    "\n",
    "Our first non-euclidean metric.  This algebra has n basis vectors that square to 1 and a single basis vector that squares to 0.  We will assume n = 3 for now.\n",
    "The basis vector that squares to zero is similar to the w component of homogeneous vectors you may be familiar with.\n",
    "Effectively this lets us efficiently model projective geometry.  \n",
    "We choose $e_{n}$ as our degenerate basis vector.  Since Julia is our implementation language we stick with 1-based indexing and choose to place the degenerate basis element as the last element of a 1-vector to mirror the use of w in a Vector Algebra setting.  i.e. $e_1*e_1 == 1$, $e_2*e_2 == 1$, $e_3*e_3 == 1$, and $e_4*e_4 == 0$ for 3D projective geometry.\n",
    "\n",
    "One more thing we need to do for maximum elegance and power is to represent our points as 3-vectors, which is visualized as the intersection of 3 planes.  This can take a little while to get used to.  For more information about PGA please check out https://bivector.net\n",
    "\n",
    "This unreasonably effective algebra has many advantages.  Almost trivial representation/construction of Dual Quaternions and the ability to represent objects at infinity being it's two main super-powers.\n",
    "\n",
    "### PBD using PGA\n",
    "\n",
    "A few things we need to consider now that we have a degenerate metric and trivector based positions.\n",
    "\n",
    "We need to revisit our foundational equations and see what happens with these changes.\n",
    "\n",
    "The degenerate metric prevents us from using the previous trick we used to get a gradient operator (2), as it's not true for $e_4$.\n",
    "\n",
    "Instead we multiply (3) by the pseudoscalar $\\textit{I} = e_{1234}$.  \n",
    "We can factor the pseudoscalar into the 1-vectors for the gradient and the 3-vectors for points.  Factorization is via the wedge product.\n",
    "\n",
    "$e_{1234} C(p) + -1^{(4-i)} p_i e_{jkl} \\wedge e_i \\partial_i = e_{1234} C(p) + -1^{(4-i)} \\Delta p \\wedge \\nabla C(p)$ &emsp; &emsp; (6)\n",
    "\n",
    "Note that $\\partial_4 C(p) = 0$ since the coordinate function for the projective plane is constant for the objects we are interested in.  This leaves us with an ideal point, which is a direction vector, as we would expect.\n",
    "\n",
    "which gives us a gradient operator for PGA that looks like this\n",
    "\n",
    "$\\nabla_* = -e_1 \\partial_1 + e_2 \\partial_2 - e_3 \\partial_3$\n",
    "\n",
    "if we had a different ordering of basis indices we'd potentially have different signs here.  As we will see later, this doesn't matter since the signs will cancel.\n",
    "\n",
    "$C(p + \\Delta p) \\approx \\textit{I} C(p) + \\Delta p \\wedge \\nabla_* C(p) = 0$\n",
    " \n",
    "The dualized statement of D'Alembert's principle (4) becomes\n",
    "\n",
    "$\\Delta p = \\lambda e_{ij4} \\partial_k C(p)$\n",
    "\n",
    "Which says that any virtual displacement consistent with the constraint must be aligned with it's (dual) gradient.\n",
    "\n",
    "Some algebra where we use the identity $(\\textit{I}A \\wedge B) = \\textit{I}(A \\cdot B)$ and $e_ke_k = 1, k \\in {1,2,3}$\n",
    "\n",
    "$-\\textit{I} C(p) = \\lambda e_{ij4} e_k e_k \\partial_k C(p) \\wedge \\nabla_* C(p)$\n",
    "\n",
    "$-\\textit{I} C(p) = \\lambda \\textit{I} \\nabla_* C(p) \\wedge \\nabla_* C(p)$\n",
    "\n",
    "$-\\textit{I} C(p) = \\lambda \\textit{I} (\\nabla_* C(p) \\cdot \\nabla_* C(p))$\n",
    "\n",
    "$-C(p) = \\lambda \\nabla_* C(p) \\cdot \\nabla_* C(p)$\n",
    "\n",
    "Solving for $\\Delta p$ as before and noticing $\\nabla_* \\cdot \\nabla_*$ will cancel any sign differences from $\\nabla$\n",
    "\n",
    "$\\Delta p = \\frac{-C(p)}{\\nabla C(p)  \\cdot \\nabla C(p)} e_{ij4} \\partial_k C(p)$\n",
    "\n",
    "There we have it.  The Constraint Projection Equations of PBD for PGA.  The only difference is that we have ideal points ( directions ) represented as trivectors instead of 1-vectors as seen in the standard formulation.  This is what we would expect. \n",
    "\n",
    "In PGA we need to translate objects with a translational dual quaternion."
   ]
  },
  {
   "cell_type": "markdown",
   "metadata": {},
   "source": [
    "# Rigid Body Dynamics\n"
   ]
  },
  {
   "cell_type": "markdown",
   "metadata": {},
   "source": [
    "## Useful identities\n",
    "\n",
    "### Jacobian of commutator for bivectors\n",
    "\n",
    "The matrix form of the Linear Transform representing the cross product operator $\\mathbf{x}\\times$ is\n",
    "\n",
    "$\\begin{bmatrix}\n",
    "0 & -z & y \\\\ \n",
    "z & 0  & -x \\\\ \n",
    "-y & x & 0\n",
    "\\end{bmatrix}$\n",
    "\n",
    "choose coordinate functions $x,y,z$ for a bivector\n",
    "such that $B(\\mathbf{x}) = x(e_2 \\wedge e_3) + y(e_3 \\wedge e_1) + z(e_1 \\wedge e_2)$ \n",
    "\n",
    "The equivalent for the commutator product $B(\\mathbf{x}) \\times$ applied to bivectors is\n",
    "\n",
    "$\\begin{bmatrix}\n",
    "0 & z & -y \\\\ \n",
    "-z & 0  & x \\\\ \n",
    "y & -x & 0\n",
    "\\end{bmatrix}$\n",
    "\n",
    "It's the same matrix but negated.\n",
    "\n",
    "\n",
    "### Tumbling rigid body with no external torques\n",
    "\n",
    "To build a basic rigid body simulator with no contraints, we want solutions to Newton and Euler's equations of motion.  \n",
    "\n",
    "Euler's equations applied to a rigid body with 3 different principle moments of inertia quickly blows up due to a physical instability.  To integrate forward in time we need to use a stable integrator.  We will use an implicit Euler integration technique for this.  \n",
    "\n",
    "Euler is clearly the hero of this chapter in our journey.\n",
    "\n",
    "https://en.wikipedia.org/wiki/Euler%27s_equations_(rigid_body_dynamics)\n",
    "\n",
    "https://en.wikipedia.org/wiki/Backward_Euler_method\n",
    "\n",
    "#### Simulator code\n",
    "\n",
    "First we'll write a simulator using vector algebra for reference.\n",
    "\n",
    "After that you'll find a little description of the implicit Euler technique along with the code implementing it using Geometric Algebra.\n"
   ]
  },
  {
   "cell_type": "code",
   "execution_count": 1,
   "metadata": {},
   "outputs": [
    {
     "name": "stderr",
     "output_type": "stream",
     "text": [
      "\u001b[32m\u001b[1m Activating\u001b[22m\u001b[39m environment at `~/lab/GBD.jl/notebooks/Project.toml`\n",
      "Path `/Users/mewert/lab/GBD.jl` exists and looks like the correct package. Using existing path.\n",
      "\u001b[32m\u001b[1m  Resolving\u001b[22m\u001b[39m package versions...\n",
      "\u001b[32m\u001b[1mNo Changes\u001b[22m\u001b[39m to `~/lab/GBD.jl/notebooks/Project.toml`\n",
      "\u001b[32m\u001b[1mNo Changes\u001b[22m\u001b[39m to `~/lab/GBD.jl/notebooks/Manifest.toml`\n"
     ]
    }
   ],
   "source": [
    "using Pkg\n",
    "Pkg.activate(@__DIR__)\n",
    "Pkg.develop(Pkg.PackageSpec(path=dirname(@__DIR__)))\n",
    "Pkg.instantiate()"
   ]
  },
  {
   "cell_type": "code",
   "execution_count": 14,
   "metadata": {},
   "outputs": [
    {
     "data": {
      "text/plain": [
       "RK4 (generic function with 3 methods)"
      ]
     },
     "execution_count": 14,
     "metadata": {},
     "output_type": "execute_result"
    }
   ],
   "source": [
    "using StaticArrays, LinearAlgebra, ReferenceFrameRotations\n",
    "\n",
    "function RK4(f, X, dt)\n",
    "    k₁ = f(X)\n",
    "    k₂ = f(X+0.5*dt*k₁)\n",
    "    k₃ = f(X+0.5*dt*k₂)\n",
    "    k₄ = f(X+dt*k₃)\n",
    "    X + (dt/6.0)*(k₁ + 2.0*k₂ + 2.0*k₃ + k₄)\n",
    "end\n",
    "\n",
    "function RK4(f, X::Tuple, dt)\n",
    "    k₁ = f(X)\n",
    "    k₂ = f(X.+(0.5*dt).*k₁)\n",
    "    k₃ = f(X.+(0.5*dt).*k₂)\n",
    "    k₄ = f(X.+dt.*k₃)\n",
    "    X .+ (dt/6.0).*(k₁ .+ 2.0.*k₂ .+ 2.0.*k₃ .+ k₄)\n",
    "end\n"
   ]
  },
  {
   "cell_type": "code",
   "execution_count": 49,
   "metadata": {},
   "outputs": [
    {
     "data": {
      "text/plain": [
       "integrate_explicit! (generic function with 6 methods)"
      ]
     },
     "execution_count": 49,
     "metadata": {},
     "output_type": "execute_result"
    }
   ],
   "source": [
    "# Good old linear algebra based RBD solver ( aside from quaternions )\n",
    "# for ground truth reference\n",
    "\n",
    "Vector3d = SVector{3,Float64}\n",
    "Matrix3d = SMatrix{3,3,Float64}\n",
    "\n",
    "mutable struct RigidBodyVA\n",
    "    x::SVector{3,Float64}\n",
    "    R::SMatrix{3,3,Float64} # body to world transform wTb\n",
    "    m::Float64\n",
    "    I::SVector{3,Float64}   # bodyspace\n",
    "    v::SVector{3,Float64}\n",
    "    w::SVector{3,Float64}   # world space\n",
    "    q::Quaternion{Float64}\n",
    "end\n",
    "\n",
    "function setrotation!(rb, R::Matrix3d)\n",
    "    rb.R = R\n",
    "    rb.q = dcm_to_quat(R')\n",
    "end\n",
    "\n",
    "function setrotation!(rb, q::Quaternion{Float64})\n",
    "    rb.q = q\n",
    "    rb.R = quat_to_dcm(q)'\n",
    "end\n",
    "\n",
    "getrotation(rb) = rb.R\n",
    "\n",
    "RigidBodyVA(x,m=1.0,inertia=ones(3)) = RigidBodyVA(x, Matrix{Float64}(I, 3,3), m, inertia, \n",
    "                                                   zeros(3), zeros(3), Quaternion(1.0,0,0,0))\n",
    "\n",
    "\n",
    "skew(w) = [0.0 -w[3] w[2];\n",
    "         w[3] 0.0  -w[1];\n",
    "         -w[2] w[1] 0.0]\n",
    "\n",
    "function inertia_tensor(box::SVector{3,Float64}, m::Float64)\n",
    "    x,y,z = box\n",
    "    (m/12.0) * Vector3d(y^2+z^2, x^2+z^2, x^2+y^2)\n",
    "end\n",
    "\n",
    "\n",
    "function ω_implicit(ω₀::Vector3d, It, wTb::Matrix3d, dt)\n",
    "    # one step of newtons method to solve for new angular velocity = f(ω′) = I(ω′-ω)+ω′xIω′*dt = 0\n",
    "    # df(ω′)/ω′ = I + (1xIω′+ω′xI)*dt\n",
    "    # df(ω) = I + (ωxI - Iωx1)*dt\n",
    "    ω = wTb'*ω₀\n",
    "    Iω = It*ω\n",
    "    f = ω×Iω*dt \n",
    "    df = It + (skew(ω)*It - skew(Iω))*dt\n",
    "   \n",
    "    ω′ = ω - df\\f\n",
    "    wTb*ω′\n",
    "end\n",
    "\n",
    "function integrate_implicit!(rb::RigidBodyVA, dt::Float64)\n",
    "    rb.x += rb.v*dt\n",
    "    rb.w = ω_implicit(rb.w, Diagonal(rb.I), getrotation(rb), dt)\n",
    "    q2 = rb.q + 0.5*dt*rb.w*rb.q\n",
    "    setrotation!(rb, q2/norm(q2))\n",
    "    \n",
    "    return rb\n",
    "end\n",
    "\n",
    "function integrate_explicit!(rb::RigidBodyVA, dt::Float64)\n",
    "    rb.x += rb.v*dt\n",
    "    # torque free Euler's equation\n",
    "    # Iω̇ = -ω×(Iω)\n",
    "    wIw = -cross(rb.w, rb.R*Diagonal(rb.I)*rb.R'*rb.w)\n",
    "    rb.w += rb.R*inv(Diagonal(rb.I))*rb.R'*wIw*dt\n",
    "    q2 = rb.q + 0.5*dt*rb.w*rb.q\n",
    "    setrotation!(rb, q2/norm(q2))\n",
    "    \n",
    "    return rb\n",
    "end\n",
    "\n",
    "function integrate_explicit!(rb::RigidBodyVA, dt::Float64, integrator)\n",
    "    f((x,v,w,q)) = begin \n",
    "                        R = quat_to_dcm(q/norm(q))'\n",
    "                       (v, zero(v), \n",
    "                        R*inv(Diagonal(rb.I))*R'*(-cross(w, R*Diagonal(rb.I)*R'*w)),\n",
    "                        0.5*w*q)\n",
    "                    end\n",
    "    x,v,w,q = integrator(f, (rb.x,rb.v,rb.w,rb.q), dt)\n",
    "    rb.x = x; rb.v = v; rb.w = w; rb.q = q;                  \n",
    "    setrotation!(rb, rb.q/norm(rb.q))\n",
    "    return rb\n",
    "end"
   ]
  },
  {
   "cell_type": "code",
   "execution_count": 4,
   "metadata": {},
   "outputs": [],
   "source": [
    "using Multivectors\n",
    "\n",
    "Base.:~(k::K) where {K<:KVector} = reverse(k)\n",
    "Base.:~(k::K) where {K<:Multivector} = reverse(k)"
   ]
  },
  {
   "cell_type": "code",
   "execution_count": 5,
   "metadata": {},
   "outputs": [
    {
     "data": {
      "text/plain": [
       "skew (generic function with 2 methods)"
      ]
     },
     "execution_count": 5,
     "metadata": {},
     "output_type": "execute_result"
    }
   ],
   "source": [
    "# G(3) Geometric Algebra of 3D Euclidean space \n",
    "\n",
    "module G3\n",
    "    using Multivectors\n",
    "    @generate_basis(\"+++\")\n",
    "end\n",
    "\n",
    "G3Vector = KVector{Float64,1}\n",
    "G3Bivector = KVector{Float64,2}\n",
    "G3Rotor = Multivector{Float64,2}\n",
    "\n",
    "g3𝐼 = 1.0G3.e₁₂₃\n",
    "g3vec(x,y,z) = Float64(x)*G3.e₁ + Float64(y)*G3.e₂ + Float64(z)*G3.e₃ \n",
    "g3bivec(x,y,z) = Float64(x)*G3.e₂₃ - Float64(y)*G3.e₁₃ + Float64(z)*G3.e₁₂\n",
    "\n",
    "bivec(M::MT) where MT<:Multivector = grade(M,2)\n",
    "bivec_coords(B::G3Bivector) = [B⋅~(1.0G3.e₂₃), B⋅(1.0G3.e₁₃), B⋅~(1.0G3.e₁₂)]\n",
    "\n",
    "function skew(Ω::G3Bivector)\n",
    "    Ωᵢ = bivec_coords(Ω)\n",
    "    [0.0 Ωᵢ[3] -Ωᵢ[2];\n",
    "    -Ωᵢ[3] 0.0  Ωᵢ[1];\n",
    "    Ωᵢ[2] -Ωᵢ[1] 0.0]\n",
    "end"
   ]
  },
  {
   "cell_type": "markdown",
   "metadata": {},
   "source": [
    "## Implicit integration\n",
    "\n",
    "External torque free update with Euler Equation\n",
    "```\n",
    "L̇(ω) = I(ω̇) - ω×I(ω)\n",
    "L̇(ω) = 0  in world space\n",
    "```\n",
    "\n",
    "Although change in angular momentum with time is 0 in world space, this isn't the case for body space.  While the magnitude of the angular momentum is constant, it changes direction in body space over time.  Additionally, angular velocity changes in both frames of reference.  However, the inertia tensor does stay constant in body space.  \n",
    "\n",
    "We want to solve for `ω′` in body frame since this is easier than solving for a changing inertia tensor.\n",
    "\n",
    "define `ω̇ = (ω′-ω)/dt`\n",
    "```\n",
    "f(ω′) = I(ω′-ω)/dt - ω′×I(ω′) = 0\n",
    "f(ω′) ≈ f(ω + dω*h) ≈ f(ω) + dω⋅∇f(ω) = 0   solve for dω\n",
    " \n",
    "dω = -J⁻¹f(ω)\n",
    "```\n",
    "`J` is the Jacobian representing the linear operator for `⋅∇f(ω)`\n",
    "\n",
    "using linearity and 𝐷 for ⋅∇\n",
    "```\n",
    "𝐷f(ω) = I(𝐷(ω))/dt - (𝐷(ω)×I(ω) - ω×I(𝐷(ω)))\n",
    "𝐷(ω) = 𝟙, the identity matrix\n",
    "[ω×𝟙] = skew(ω) and [I(𝟙)] is a diagonal matrix [Iᵢ]\n",
    "J = I(𝟙)/dt - (skew(ω)I(𝟙)-skew(I(ω)))\n",
    "```\n",
    "\n",
    "## Rigid Body simulator in G(3,0,0)\n",
    "\n",
    "Now we have everything we need to build a rigid body sim in G(3).  \n",
    "\n",
    "Here's the code."
   ]
  },
  {
   "cell_type": "code",
   "execution_count": 42,
   "metadata": {},
   "outputs": [
    {
     "data": {
      "text/plain": [
       "integrate_explicit! (generic function with 6 methods)"
      ]
     },
     "execution_count": 42,
     "metadata": {},
     "output_type": "execute_result"
    }
   ],
   "source": [
    "# G(3) based RBD solver.  as in \"Geometric Algebra for Physicists.  Doran, Lasenby\"\n",
    "\n",
    "mutable struct RigidBodyG3\n",
    "    x::G3Vector\n",
    "    R::G3Rotor # body to world transform wTb\n",
    "    m::Float64  # move to end for better cache perf\n",
    "    I::G3Bivector   # bodyspace\n",
    "    v::G3Vector\n",
    "    w::G3Bivector   # world space\n",
    "end\n",
    "\n",
    "function inertia_tensor(box::G3Vector, m)\n",
    "    x,y,z = coords(box)\n",
    "    (m/12.0) * ((y^2+z^2)*G3.e₂₃ - (x^2+z^2)*G3.e₁₃ + (x^2+y^2)*G3.e₁₂)\n",
    "end\n",
    "\n",
    "apply_inertiai(It, B, eij, ei) = (It⋅eij)*(B⋅eij)*g3𝐼*ei \n",
    "apply_inertia(It::G3Bivector, B::G3Bivector) = apply_inertiai(It, B,  1.0G3.e₁₂, 1.0G3.e₃) +\n",
    "                                               apply_inertiai(It, B, -1.0G3.e₁₃, 1.0G3.e₂) +\n",
    "                                               apply_inertiai(It, B,  1.0G3.e₂₃, 1.0G3.e₁)\n",
    "apply_inertia_invi(It, B, eij, ei) = (1.0/(It⋅eij))*(B⋅eij)*g3𝐼*ei \n",
    "apply_inertia_inv(It::G3Bivector, B::G3Bivector) = apply_inertia_invi(It, B,  1.0G3.e₁₂, 1.0G3.e₃) +\n",
    "                                                   apply_inertia_invi(It, B, -1.0G3.e₁₃, 1.0G3.e₂) +\n",
    "                                                   apply_inertia_invi(It, B,  1.0G3.e₂₃, 1.0G3.e₁)\n",
    "\n",
    "RigidBodyG3(x,m=1.0,inertia=inertia_tensor(g3vec(1,1,1), 1)) = RigidBodyG3(x, 1.0+g3bivec(0,0,0), \n",
    "                                                                             m, inertia, \n",
    "                                                                             g3vec(0,0,0), \n",
    "                                                                             g3bivec(0,0,0))\n",
    "\n",
    "function jacobian(ω₀::G3Bivector, It::G3Bivector, R::G3Rotor, dt)\n",
    "    # J = I(𝟙)/dt - (skew(ω)I(𝟙)-skew(I(ω)))\n",
    "    ω = bivec(~R*ω₀*R)\n",
    "    Iω = apply_inertia(It, ω)\n",
    "    I1 = Diagonal(bivec_coords(It))\n",
    "    \n",
    "    J = I1/dt - (skew(ω)*I1 - skew(Iω))\n",
    "end\n",
    "\n",
    "function f(ω₀::G3Bivector, It::G3Bivector, R::G3Rotor)\n",
    "    ω = bivec(~R*ω₀*R)\n",
    "    Iω = apply_inertia(It, ω)\n",
    "    bivec_coords(bivec(-ω×Iω))\n",
    "end\n",
    "\n",
    "function integrate_implicit!(g3rb::RigidBodyG3, dt::Float64)\n",
    "    g3rb.x += g3rb.v*dt\n",
    "    R = g3rb.R\n",
    "    \n",
    "    J = jacobian(g3rb.w, g3rb.I, R, dt)\n",
    "    dω = -J\\f(g3rb.w, g3rb.I, R)\n",
    "    g3rb.w += bivec(R*g3bivec(dω...)*~R)\n",
    "    g3rb.R = normalize(g3rb.R - 0.5*g3rb.w*g3rb.R*dt)\n",
    "    \n",
    "    return g3rb\n",
    "end\n",
    "\n",
    "function dw_explicit(ω₀::G3Bivector, It::G3Bivector, R::G3Rotor)\n",
    "    ω = bivec(~R*ω₀*R)\n",
    "    Iw = apply_inertia(It, ω)\n",
    "    dω = bivec(ω×Iw)\n",
    "    bivec(R*apply_inertia_inv(It, dω)*~R)\n",
    "end\n",
    "\n",
    "function integrate_explicit!(g3rb::RigidBodyG3, dt::Float64)\n",
    "    g3rb.x += g3rb.v*dt\n",
    "    \n",
    "    # ω̇ = I⁻¹(ω×I(ω))\n",
    "    g3rb.w += dw_explicit(g3rb.w, g3rb.I, g3rb.R)*dt\n",
    "    g3rb.R = normalize(g3rb.R - 0.5*g3rb.w*g3rb.R*dt)\n",
    "    \n",
    "    return g3rb\n",
    "end\n",
    "\n",
    "function integrate_explicit!(g3rb::RigidBodyG3, dt::Float64, integrator)\n",
    "    f((x,v,w,R)) = (v, 0.0, dw_explicit(w, g3rb.I, R), -0.5*w*R)\n",
    "    x, v, w, R = integrator(f, (g3rb.x, g3rb.v, g3rb.w, g3rb.R), dt)\n",
    "    g3rb.x = grade(x,1); g3rb.v = grade(v,1); g3rb.w = w; g3rb.R = normalize(R)\n",
    "    \n",
    "    return g3rb\n",
    "end\n"
   ]
  },
  {
   "cell_type": "markdown",
   "metadata": {},
   "source": [
    "## Rigid Body simulator in PGA the (Projective) Geometric Algebra of Planes\n",
    "\n",
    "Now let's do the same thing but in PGA.  \n",
    "\n",
    "The main challenge is to find the set of linear operators needed for the Jacobian. "
   ]
  },
  {
   "cell_type": "code",
   "execution_count": 7,
   "metadata": {},
   "outputs": [
    {
     "data": {
      "text/plain": [
       "normalize_dir (generic function with 1 method)"
      ]
     },
     "execution_count": 7,
     "metadata": {},
     "output_type": "execute_result"
    }
   ],
   "source": [
    "# G(3,0,1) Plane Based Geometric Algebra of 3D Euclidean space.  PGA \n",
    "\n",
    "module PGA3\n",
    "    using Multivectors\n",
    "    @generate_basis(\"+++0\")\n",
    "    point(x,y,z) = dual(Float64(x)*e₁ + Float64(y)*e₂ + Float64(z)*e₃ + 1.0*e₄) \n",
    "    dir(x,y,z) = dual(Float64(x)*e₁ + Float64(y)*e₂ + Float64(z)*e₃)\n",
    "    line(p,q) = q∨p\n",
    "end\n",
    "\n",
    "using .PGA3\n",
    "\n",
    "PGA3Point = KVector{Float64,3}\n",
    "PGA3Bivector = KVector{Float64,2}\n",
    "PGA3Motor = Multivector{Float64,2}\n",
    "\n",
    "pga3𝐼 = 1.0PGA3.e₁₂₃\n",
    "\n",
    "bivec(M::MT) where MT<:Multivector = grade(M,2)\n",
    "bivec6_basis = [1.0PGA3.e₂₃, -1.0PGA3.e₁₃, 1.0PGA3.e₁₂, -1.0PGA3.e₁₄, -1.0PGA3.e₂₄, -1.0PGA3.e₃₄]\n",
    "coord_help(B) = magnitude∘(x->B∧x)∘dual∘~\n",
    "bivec6_coords(B::PGA3Bivector) = coord_help(B).([-1.0PGA3.e₂₃, 1.0PGA3.e₁₃, -1.0PGA3.e₁₂,\n",
    "                                              -1.0PGA3.e₁₄, -1.0PGA3.e₂₄, -1.0PGA3.e₃₄])\n",
    "pga3coords(P::KVector{Float64,3}) = magnitude.([-P∧1.0PGA3.e₁, -P∧1.0PGA3.e₂, -P∧1.0PGA3.e₃])\n",
    "\n",
    "normalize_dir(P) = P/norm(pga3coords(P))\n",
    "#==\n",
    "function skew(Ω::G3Bivector)\n",
    "    Ωᵢ = bivec_coords(Ω)\n",
    "    [0.0 Ωᵢ[3] -Ωᵢ[2];\n",
    "    -Ωᵢ[3] 0.0  Ωᵢ[1];\n",
    "    Ωᵢ[2] -Ωᵢ[1] 0.0]\n",
    "end\n",
    "==#"
   ]
  },
  {
   "cell_type": "code",
   "execution_count": 35,
   "metadata": {},
   "outputs": [
    {
     "data": {
      "text/plain": [
       "integrate_explicit! (generic function with 5 methods)"
      ]
     },
     "execution_count": 35,
     "metadata": {},
     "output_type": "execute_result"
    }
   ],
   "source": [
    "# G(3,0,1) based RBD solver.  See Charles Gunn's PGA papers/notes.\n",
    "\n",
    "mutable struct RigidBodyPGA3\n",
    "    X::Multivector # position, orientation\n",
    "    I::KVector{Float64,2}   #  intertia tensor bodyspace\n",
    "    V::KVector{Float64,2}  # velocity ( linear and angular ) bodyspace\n",
    "end\n",
    "\n",
    "velocity(x,y,z,ωx,ωy,ωz) = 0.5*Float64(x)*PGA3.e₁₄ + 0.5*Float64(y)*PGA3.e₂₄ + 0.5*Float64(z)*PGA3.e₃₄ +\n",
    "                           -0.5*Float64(ωx)*PGA3.e₂₃ + 0.5*Float64(ωy)*PGA3.e₁₃ - 0.5*Float64(ωz)*PGA3.e₁₂\n",
    "\n",
    "position(x,y,z) = 1.0 + 0.5*Float64(x)*PGA3.e₁₄ + 0.5*Float64(y)*PGA3.e₂₄ + 0.5*Float64(z)*PGA3.e₃₄\n",
    "\n",
    "function motor(x,y,z,αx,αy,αz)\n",
    "    t = 1.0 + 0.5*Float64(x)*PGA3.e₁₄ + 0.5*Float64(y)*PGA3.e₂₄ + 0.5*Float64(z)*PGA3.e₃₄\n",
    "    R =  1.0 + 0.5*Float64(αx)*PGA3.e₂₃ - 0.5*Float64(αy)*PGA3.e₁₃ + 0.5*Float64(αz)*PGA3.e₁₂\n",
    "    normalize(t*R)\n",
    "end\n",
    "\n",
    "# A is the PGA Inertia tensor + mass\n",
    "function A(xyz, m)\n",
    "    x,y,z = Float64.(xyz)\n",
    "    (m/12.0) * (-(y^2+z^2)*PGA3.e₁₄ - (x^2+z^2)*PGA3.e₂₄ - (x^2+y^2)*PGA3.e₃₄) + \n",
    "        Float64(m)*PGA3.e₂₃ - Float64(m)*PGA3.e₁₃ + Float64(m)*PGA3.e₁₂\n",
    "end\n",
    "\n",
    "applyA(It, B) = reduce(+, bivec6_coords(It) .* bivec6_coords(B) .* bivec6_basis)\n",
    "applyAinv(It, B) = reduce(+, inv.(bivec6_coords(It)) .* bivec6_coords(B) .* bivec6_basis)\n",
    "\n",
    "RigidBodyPGA3(X,m=1.0,inertia=A([1,1,1],m)) = RigidBodyPGA3(X, inertia, velocity(0,0,0,0,0,0))\n",
    "\n",
    "\n",
    "function integrate_explicit!(rb::RigidBodyPGA3, dt)\n",
    "    A = rb.I\n",
    "    rb.V = rb.V + dual(applyAinv(A, bivec(applyA(A, dual(rb.V))*rb.V - rb.V*applyA(A, dual(rb.V)))))*dt\n",
    "    rb.X = normalize(rb.X + rb.X*rb.V*dt)\n",
    "end\n",
    "\n",
    "function integrate_explicit!(rb::RigidBodyPGA3, dt, integrator)\n",
    "    A = rb.I\n",
    "    f((X,V)) = (X*V,\n",
    "                dual(applyAinv(A, bivec(applyA(A, dual(V))*V - V*applyA(A, dual(V))))))\n",
    "    rb.X, rb.V = integrator(f, (rb.X, rb.V), dt)\n",
    "    rb.X = normalize(rb.X)\n",
    "end\n"
   ]
  },
  {
   "cell_type": "code",
   "execution_count": 9,
   "metadata": {},
   "outputs": [
    {
     "name": "stderr",
     "output_type": "stream",
     "text": [
      "┌ Info: MeshCat server started. You can open the visualizer by visiting the following URL in your browser:\n",
      "│ http://127.0.0.1:8700\n",
      "└ @ MeshCat /Users/mewert/.julia/packages/MeshCat/rJuuK/src/visualizer.jl:73\n"
     ]
    },
    {
     "data": {
      "text/plain": [
       "MeshCat Visualizer with path /meshcat at http://127.0.0.1:8700"
      ]
     },
     "execution_count": 9,
     "metadata": {},
     "output_type": "execute_result"
    }
   ],
   "source": [
    "using MeshCat, GeometryBasics, CoordinateTransformations\n",
    "vis = Visualizer()"
   ]
  },
  {
   "cell_type": "code",
   "execution_count": 10,
   "metadata": {},
   "outputs": [
    {
     "data": {
      "text/plain": [
       "MeshCat Visualizer with path /meshcat/box3 at http://127.0.0.1:8700"
      ]
     },
     "execution_count": 10,
     "metadata": {},
     "output_type": "execute_result"
    }
   ],
   "source": [
    "box_radius = Vec(0.05,0.2,0.4)\n",
    "offset2 = Vec(0,1.0,0)\n",
    "\n",
    "setobject!(vis[:box1], Rect(-box_radius, box_radius*2))\n",
    "setobject!(vis[:box2], Rect(-box_radius, box_radius*2))\n",
    "setobject!(vis[:box3], Rect(-box_radius, box_radius*2))"
   ]
  },
  {
   "cell_type": "code",
   "execution_count": 11,
   "metadata": {},
   "outputs": [
    {
     "data": {
      "text/plain": [
       "RigidBodyPGA3(Multivector{Float64,2}\n",
       "⟨1.0⟩₀ + ⟨0.0Main.PGA3.e₃₄,0.5Main.PGA3.e₂₄,0.0Main.PGA3.e₁₄⟩₂, Blade{Float64,2}[1.0Main.PGA3.e₁₂, -1.0Main.PGA3.e₁₃, 1.0Main.PGA3.e₂₃, -0.01416666666666667Main.PGA3.e₃₄, -0.06666666666666668Main.PGA3.e₁₄, -0.054166666666666675Main.PGA3.e₂₄], Blade{Float64,2}[-0.0Main.PGA3.e₁₂, 0.0Main.PGA3.e₁₃, -0.0Main.PGA3.e₂₃, 0.0Main.PGA3.e₃₄, -0.05Main.PGA3.e₁₄, 0.0Main.PGA3.e₂₄])"
      ]
     },
     "execution_count": 11,
     "metadata": {},
     "output_type": "execute_result"
    }
   ],
   "source": [
    "function torot(R::M) where M<:Multivector\n",
    "    k,j,i = coords(grade(R,2))\n",
    "    quat_to_dcm(Quaternion(grade(R,0), -i, j, -k))'\n",
    "end\n",
    "\n",
    "rb = RigidBodyVA(zeros(3))\n",
    "rb.x = [0,-0.5,0]\n",
    "setrotation!(rb, Matrix3d(I))\n",
    "rb.w = [0.0,10,1]\n",
    "rb.v = [0.0,0.5,0.0]\n",
    "rb.m = 10\n",
    "rb.I = inertia_tensor(Vector3d(2*box_radius), rb.m)\n",
    "\n",
    "g3rb = RigidBodyG3(g3vec(0,0.5,0))\n",
    "g3rb.v = g3vec(0,0.5,0)\n",
    "g3rb.w = g3bivec(0,10,1)\n",
    "g3rb.m = 10\n",
    "g3rb.I = inertia_tensor(g3vec((2*box_radius)...), g3rb.m)\n",
    "\n",
    "# extract transform information from motor\n",
    "function torot_trans(m)\n",
    "    # see how it affects origin and then cardinal directions ( at origin ).  could use ideal directions, but then need to fix normalization to handle ideal elements\n",
    "    t = grade(m*PGA3.point(0,0,0)*~m, 3)\n",
    "    t = pga3coords(normalize(t))\n",
    "    i = grade(m*PGA3.point(1,0,0)*~m, 3)\n",
    "    j = grade(m*PGA3.point(0,1,0)*~m, 3)\n",
    "    k = grade(m*PGA3.point(0,0,1)*~m, 3)\n",
    "    R = hcat(pga3coords(normalize(i))-t, pga3coords(normalize(j))-t, pga3coords(normalize(k))-t)\n",
    "    #(R'*t, R)\n",
    "    (t, R)\n",
    "end\n",
    "\n",
    "# from bivector.  seems to give similar results, but signs and order differ\n",
    "# to get signs and order right need to reorder/sign so it's mapping from ganja PGA points basis ordering/sign\n",
    "# I'll just use above one\n",
    "function toT4x4(M)\n",
    "    a0 = grade(M,0)\n",
    "    a6, a5, a4, a1, a2, a3 = bivec6_coords(grade(M,2)) .* (1,1,1,-1,-1,-1)\n",
    "    a7 = grade(M,4)[1].x\n",
    "    _2a0=2*a0; _2a4=2*a4; _2a5=2*a5; a0a0=a0*a0; a4a4=a4*a4; a5a5=a5*a5; \n",
    "    a6a6=a6*a6; _2a6=2*a6; _2a0a4=_2a0*a4; _2a0a5=_2a0*a5; _2a0a6=_2a0*a6;\n",
    "    _2a4a5=_2a4*a5; _2a4a6=_2a4*a6; _2a5a6=_2a5*a6;\n",
    "    return hcat([(a0a0+a4a4-a5a5-a6a6),(_2a4a5-_2a0a6),      (_2a0a5+_2a4a6),      0],\n",
    "        [(_2a4a5+_2a0a6),      (a0a0-a4a4+a5a5-a6a6),(_2a5a6-_2a0a4),      0],\n",
    "        [(_2a4a6-_2a0a5),      (_2a0a4+_2a5a6),      (a0a0-a4a4-a5a5+a6a6),0],\n",
    "        [(_2a0*a3+_2a4*a7-_2a6*a2-_2a5*a1),(_2a4*a1-_2a0*a2-_2a6*a3+_2a5*a7),(_2a0*a1+_2a4*a2+_2a5*a3+_2a6*a7),(a0a0+a4a4+a5a5+a6a6)])\n",
    "end\n",
    "\n",
    "\n",
    "pga3rb = RigidBodyPGA3(position(0,1,0), A(2*box_radius,1.0), velocity(-0.1, zeros(5)...))"
   ]
  },
  {
   "cell_type": "code",
   "execution_count": 12,
   "metadata": {},
   "outputs": [
    {
     "data": {
      "text/html": [
       "    <div style=\"height: 500px; width: 100%; overflow-x: auto; overflow-y: hidden; resize: both\">\n",
       "    <iframe src=\"http://127.0.0.1:8700\" style=\"width: 100%; height: 100%; border: none\"></iframe>\n",
       "    </div>\n"
      ],
      "text/plain": [
       "MeshCat.DisplayedVisualizer(MeshCat.CoreVisualizer(MeshCat.SceneTrees.SceneNode(nothing, nothing, Dict{String,Array{UInt8,1}}(), nothing, Dict{String,MeshCat.SceneTrees.SceneNode}(\"meshcat\" => MeshCat.SceneTrees.SceneNode(nothing, nothing, Dict{String,Array{UInt8,1}}(), nothing, Dict{String,MeshCat.SceneTrees.SceneNode}(\"box1\" => MeshCat.SceneTrees.SceneNode(UInt8[0x83, 0xa6, 0x6f, 0x62, 0x6a, 0x65, 0x63, 0x74, 0x84, 0xaa  …  0x73, 0x68, 0x63, 0x61, 0x74, 0x2f, 0x62, 0x6f, 0x78, 0x31], nothing, Dict{String,Array{UInt8,1}}(), nothing, Dict{String,MeshCat.SceneTrees.SceneNode}()),\"box2\" => MeshCat.SceneTrees.SceneNode(UInt8[0x83, 0xa6, 0x6f, 0x62, 0x6a, 0x65, 0x63, 0x74, 0x84, 0xaa  …  0x73, 0x68, 0x63, 0x61, 0x74, 0x2f, 0x62, 0x6f, 0x78, 0x32], nothing, Dict{String,Array{UInt8,1}}(), nothing, Dict{String,MeshCat.SceneTrees.SceneNode}()),\"box3\" => MeshCat.SceneTrees.SceneNode(UInt8[0x83, 0xa6, 0x6f, 0x62, 0x6a, 0x65, 0x63, 0x74, 0x84, 0xaa  …  0x73, 0x68, 0x63, 0x61, 0x74, 0x2f, 0x62, 0x6f, 0x78, 0x33], nothing, Dict{String,Array{UInt8,1}}(), nothing, Dict{String,MeshCat.SceneTrees.SceneNode}()))))), Set{Any}(), ip\"127.0.0.1\", 8700))"
      ]
     },
     "execution_count": 12,
     "metadata": {},
     "output_type": "execute_result"
    }
   ],
   "source": [
    "render(vis)"
   ]
  },
  {
   "cell_type": "code",
   "execution_count": 57,
   "metadata": {},
   "outputs": [
    {
     "name": "stdout",
     "output_type": "stream",
     "text": [
      "Blade{Float64,2}[1.0Main.PGA3.e₁₂, -1.0Main.PGA3.e₁₃, 1.0Main.PGA3.e₂₃, -0.01416666666666667Main.PGA3.e₃₄, -0.06666666666666668Main.PGA3.e₁₄, -0.054166666666666675Main.PGA3.e₂₄]\n"
     ]
    }
   ],
   "source": [
    "setrotation!(rb, Matrix3d(I)); rb.w = [0.0,10,1]; rb.x = [0,-0.5,0] \n",
    "g3rb.R = 1.0+g3bivec(0,0,0); g3rb.w = g3bivec(0,10,1); g3rb.x = g3vec(0,0.5,0)\n",
    "pga3rb = RigidBodyPGA3(position(0,0,1.0), A(2*box_radius,1.0), \n",
    "                       velocity(0.0,0.5,0.0, 0.0, 10.0, 1.0))\n",
    "\n",
    "anim = Animation()\n",
    "\n",
    "atframe(anim, 0) do\n",
    "    settransform!(vis[:box1], compose(Translation(rb.x...), LinearMap(rb.R)))\n",
    "    settransform!(vis[:box2], compose(Translation(coords(g3rb.x)...), LinearMap(torot(g3rb.R))))\n",
    "    T, R = torot_trans(pga3rb.X)\n",
    "    settransform!(vis[:box3], compose(Translation(T), LinearMap(R)))\n",
    "end\n",
    "\n",
    "dt = 0.08\n",
    "n = 0\n",
    "println(pga3rb.I);\n",
    "for i in 1:10*30\n",
    "    atframe(anim, i) do\n",
    "        integrate_explicit!(rb, dt, RK4)\n",
    "        #integrate_implicit!(rb, dt)\n",
    "        integrate_explicit!(g3rb, dt, RK4)\n",
    "#        n = n + 1\n",
    "        #if n < 20\n",
    "       #     println(n)\n",
    "       #     Ai = pga3rb.I\n",
    "       #     AV = applyA(Ai, dual(pga3rb.V))\n",
    "       #     println(\"A(!V): \", AV)\n",
    "       #     AVxV = bivec(applyA(Ai, dual(pga3rb.V))*pga3rb.V - pga3rb.V*applyA(Ai, dual(pga3rb.V)))\n",
    "       #     println(\"A(!V)×V: \", AVxV)\n",
    "       #     println(dual(applyAinv(Ai, bivec(applyA(Ai, dual(pga3rb.V))*pga3rb.V - pga3rb.V*applyA(Ai, dual(pga3rb.V)))))*dt) \n",
    "            #println(pga3rb.X)\n",
    "            #println(pga3rb.V)\n",
    "       # end\n",
    "        integrate_explicit!(pga3rb, dt, RK4)\n",
    "        settransform!(vis[:box1], compose(Translation(rb.x...), LinearMap(rb.R)))\n",
    "        settransform!(vis[:box2], compose(Translation(coords(g3rb.x)...), LinearMap(torot(g3rb.R))))\n",
    "        T, R = torot_trans(pga3rb.X)\n",
    "        settransform!(vis[:box3], compose(Translation(T), LinearMap(R)))\n",
    "    end\n",
    "end\n",
    "\n",
    "setanimation!(vis, anim)"
   ]
  },
  {
   "cell_type": "code",
   "execution_count": null,
   "metadata": {},
   "outputs": [],
   "source": []
  }
 ],
 "metadata": {
  "kernelspec": {
   "display_name": "Julia 1.5.0",
   "language": "julia",
   "name": "julia-1.5"
  },
  "language_info": {
   "file_extension": ".jl",
   "mimetype": "application/julia",
   "name": "julia",
   "version": "1.5.0"
  }
 },
 "nbformat": 4,
 "nbformat_minor": 4
}
