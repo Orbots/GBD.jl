{
 "cells": [
  {
   "cell_type": "markdown",
   "metadata": {},
   "source": [
    "# Position Based Dynamics\n",
    "\n",
    "The basic equations for position based dynamics converted to Geometric Algebra are very similar.  \n",
    "\n",
    "The differential operators used in GA differ from those of Vector Calculus, so it will look a little different in places.\n",
    "\n",
    "The gradient operator in GA using index notation is $e_i \\partial_i$\n",
    "\n",
    "Taylor expansion of a scalar valued function using the differential\n",
    "\n",
    "$C(p + \\Delta p) \\approx C(p) + \\Delta p_i \\partial_i C(p)$\n",
    "\n",
    "We want the gradient operator to appear, so we use the fact that\n",
    "\n",
    "$e_i \\cdot e_j = \\delta_{ij}$ for our euclidean basis\n",
    "\n",
    "Note: if we were using a non-euclidean metric, this would need to be modified.\n",
    "\n",
    "$C(p) + \\Delta p_i e_i \\cdot e_i \\partial_i C(p) = C(p) + \\Delta p \\nabla C(p) = 0$\n",
    "\n",
    "Ok, we've recovered the first Position Based Dynamics formula, while setting ourselves up for extension to non-eucledian metrics.\n",
    "\n",
    "$\\Delta p = \\lambda \\nabla C(p)$\n",
    "    \n",
    "Solving for $\\Delta p$ in terms of known values gives\n",
    "\n",
    "$\\Delta p = \\frac{-C(p)}{\\nabla C(p) \\cdot \\nabla C(p)} \\nabla C(p)$\n"
   ]
  },
  {
   "cell_type": "markdown",
   "metadata": {},
   "source": [
    "## GA(n,0,0) the algebra of directions \n",
    "\n",
    "The most familiar algebra for those familiar with Position Based Dynamics will be G(n,0,0). This means all the basis vectors square to 1.  This is the metric of euclidean space.\n",
    "\n",
    "The gradient operator is slightly different.  Rather than organizing the resulting partial derivatives in a column vector, partials are attached to basis vectors.\n",
    "\n",
    "$\\nabla f(p) = e_1 \\partial_x f(p) + e_2 \\partial_y f(p) + e_3 \\partial_z f(p)$\n",
    "\n",
    "rather than\n",
    "\n",
    "$\\nabla f(p) = \\begin{bmatrix}\n",
    "\\partial_x f(p) \\\\ \n",
    "\\partial_y f(p)\\\\ \n",
    "\\partial_z f(p)\n",
    "\\end{bmatrix}$\n",
    "\n",
    "we will use (1,2,3) rather than (x,y,z) to specify partial derivatives from now on.\n",
    "\n",
    "If you wish you can treat the gradient operator as a 1-vector in GA just as you can in Linear Algebra."
   ]
  },
  {
   "cell_type": "code",
   "execution_count": null,
   "metadata": {},
   "outputs": [],
   "source": []
  }
 ],
 "metadata": {
  "kernelspec": {
   "display_name": "Julia 1.5.0",
   "language": "julia",
   "name": "julia-1.5"
  },
  "language_info": {
   "file_extension": ".jl",
   "mimetype": "application/julia",
   "name": "julia",
   "version": "1.5.0"
  }
 },
 "nbformat": 4,
 "nbformat_minor": 4
}
