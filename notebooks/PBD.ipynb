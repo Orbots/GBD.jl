{
 "cells": [
  {
   "cell_type": "markdown",
   "metadata": {},
   "source": [
    "# Position Based Dynamics\n",
    "\n",
    "We will follow along with this presentation of PBD: https://matthias-research.github.io/pages/publications/posBasedDyn.pdf\n",
    "\n",
    "The basic equations for position based dynamics converted to Geometric Algebra are very similar.  \n",
    "\n",
    "The differential operators used in GA differ from those of Vector Calculus, so it will look a little different in places.\n",
    "\n",
    "The gradient operator in GA using index notation is $e_i \\partial_i$\n",
    "\n",
    "To formulate a Constraint Projection solver we start with a constraint equation, $C(p)$, that take positions as arguments and will equal zero when it is satisfied.\n",
    "\n",
    "Taylor expansion of a scalar valued function using the differential\n",
    "\n",
    "$C(p + \\Delta p) \\approx C(p) + \\Delta p_i \\partial_i C(p) = 0$ &emsp; &emsp; (1)\n",
    "\n",
    "We want the gradient operator to appear.  We use the fact that, for our euclidean basis,\n",
    "\n",
    "$e_i \\cdot e_j = \\delta_{ij}$ &emsp; &emsp; (2) \n",
    "\n",
    "Note: if we were using a non-euclidean metric, this would need to be modified.\n",
    "\n",
    "$C(p) + \\Delta p_i e_i \\cdot e_i \\partial_i C(p) = C(p) + \\Delta p \\cdot \\nabla C(p) = 0$ &emsp; &emsp; (3)\n",
    "\n",
    "Ok, we've recovered the first Position Based Dynamics formula, while setting ourselves up for extension to non-eucledian metrics.\n",
    "\n",
    "$\\Delta p = \\lambda \\nabla C(p)$   &emsp; &emsp; (4)\n",
    "    \n",
    "Solving for $\\Delta p$ in terms of known values gives\n",
    "\n",
    "$\\Delta p = \\frac{-C(p)}{\\nabla C(p) \\cdot \\nabla C(p)} \\nabla C(p)$ &emsp; &emsp; (5)\n"
   ]
  },
  {
   "cell_type": "markdown",
   "metadata": {},
   "source": [
    "## G(n,0,0) the algebra of directions \n",
    "\n",
    "The most familiar algebra for those familiar with Position Based Dynamics will be G(n,0,0). This means all the basis vectors square to 1.  This is the metric of euclidean space.\n",
    "\n",
    "The gradient operator is slightly different.  Rather than organizing the resulting partial derivatives in a column vector, partials are attached to basis vectors.\n",
    "\n",
    "$\\nabla f(p) = e_1 \\partial_x f(p) + e_2 \\partial_y f(p) + e_3 \\partial_z f(p)$\n",
    "\n",
    "rather than\n",
    "\n",
    "$\\nabla f(p) = \\begin{bmatrix}\n",
    "\\partial_x f(p) \\\\ \n",
    "\\partial_y f(p)\\\\ \n",
    "\\partial_z f(p)\n",
    "\\end{bmatrix}$\n",
    "\n",
    "we will use (1,2,3) rather than (x,y,z) to specify partial derivatives from now on.\n",
    "\n",
    "If you wish you can treat the gradient operator as a 1-vector in GA just as you can in Linear Algebra."
   ]
  },
  {
   "cell_type": "code",
   "execution_count": null,
   "metadata": {},
   "outputs": [],
   "source": []
  },
  {
   "cell_type": "markdown",
   "metadata": {},
   "source": [
    "## G(n,0,1) the algebra of planes.  aka PGA\n",
    "\n",
    "Our first non-euclidean metric.  This algebra has n basis vectors that square to 1 and a single basis vector that squares to 0.  We will assume n = 3 for now.\n",
    "The basis vector that squares to zero is similar to the w component of homogeneous vectors you may be familiar with.\n",
    "Effectively this lets us efficiently model projective geometry.  \n",
    "We choose $e_{n}$ as our degenerate basis vector.  Since Julia is our implementation language we stick with 1-based indexing and choose to place the degenerate basis element as the last element of a 1-vector to mirror the use of w in a Vector Algebra setting.  i.e. $e_1*e_1 == 1$, $e_2*e_2 == 1$, $e_3*e_3 == 1$, and $e_4*e_4 == 0$ for 3D projective geometry.\n",
    "\n",
    "One more thing we need to do for maximum elegance and power is to represent our points as 3-vectors, which is visualized as the intersection of 3 planes.  This can take a little while to get used to.  For more information about PGA please check out https://bivector.net\n",
    "\n",
    "This unreasonably effective algebra has many advantages.  Almost trivial representation/construction of Dual Quaternions and the ability to represent objects at infinity being it's two main super-powers.\n",
    "\n",
    "### PBD using PGA\n",
    "\n",
    "A few things we need to consider now that we have a degenerate metric and trivector based positions.\n",
    "\n",
    "We need to revisit our foundational equations and see what happens with these changes.\n",
    "\n",
    "The degenerate metric prevents us from using the previous trick we used to get a gradient operator (2), as it's not true for $e_4$.\n",
    "\n",
    "Instead we multiply (2) by the pseudoscalar $\\textit{I} = e_{1234}$.  \n",
    "We can factor the pseudoscalar into the 1-vectors for the gradient and the 3-vectors for points.  Factorization is via the wedge product.\n",
    "\n",
    "$e_{1234} C(p) + -1^{(4-i)} p_i e_{jkl} \\wedge e_i \\partial_i = e_{1234} C(p) + -1^{(4-i)} \\Delta p \\wedge \\nabla C(p)$ &emsp; &emsp; (6)\n",
    "\n",
    "Note that $\\partial_4 C(p) = 0$ since the coordinate function for the projective plane is constant for the objects we are interested in.  This leaves us with an ideal point, which is a direction vector, as we would expect.\n",
    "\n",
    "which gives us a gradient operator for PGA that looks like this\n",
    "\n",
    "$\\nabla_* = -e_1 \\partial_1 + e_2 \\partial_2 - e_3 \\partial_3$\n",
    "\n",
    "if we had a different ordering of basis indices we'd potentially have different signs here.  As we will see later, this doesn't matter since the signs will cancel.\n",
    "\n",
    "$C(p + \\Delta p) \\approx \\textit{I} C(p) + \\Delta p \\wedge \\nabla_* C(p) = 0$\n",
    " \n",
    "The dualized statement of D'Alembert's principle (4) becomes\n",
    "\n",
    "$\\Delta p = \\lambda e_{ij4} \\partial_k C(p)$\n",
    "\n",
    "Which says that any virtual displacement consistent with the constraint must be aligned with it's (dual) gradient.\n",
    "\n",
    "Some algebra where we use the identity $(\\textit{I}A \\wedge B) = \\textit{I}(A \\cdot B)$ and $e_ke_k = 1, k \\in {1,2,3}$\n",
    "\n",
    "$-\\textit{I} C(p) = \\lambda e_{ij4} e_k e_k \\partial_k C(p) \\wedge \\nabla_* C(p)$\n",
    "\n",
    "$-\\textit{I} C(p) = \\lambda \\textit{I} \\nabla_* C(p) \\wedge \\nabla_* C(p)$\n",
    "\n",
    "$-\\textit{I} C(p) = \\lambda \\textit{I} (\\nabla_* C(p) \\cdot \\nabla_* C(p))$\n",
    "\n",
    "$-C(p) = \\lambda \\nabla_* C(p) \\cdot \\nabla_* C(p)$\n",
    "\n",
    "Solving for $\\Delta p$ as before and noticing $\\nabla_* \\cdot \\nabla_*$ will cancel any sign differences from $\\nabla$\n",
    "\n",
    "$\\Delta p = \\frac{-C(p)}{\\nabla C(p)  \\cdot \\nabla C(p)} e_{ij4} \\partial_k C(p)$\n",
    "\n",
    "There we have it.  The Constraint Projection Equations of PBD for PGA.  The only difference is that we have ideal points ( directions ) represented as trivectors instead of 1-vectors as seen in the standard formulation.  This is what we would expect. \n",
    "\n",
    "In PGA we need to translate objects with a translational dual quaternion."
   ]
  },
  {
   "cell_type": "markdown",
   "metadata": {},
   "source": [
    "# Rigid Body Dynamics\n"
   ]
  },
  {
   "cell_type": "code",
   "execution_count": null,
   "metadata": {},
   "outputs": [],
   "source": [
    "using StaticArrays, LinearAlgebra, ReferenceFrameRotations"
   ]
  },
  {
   "cell_type": "code",
   "execution_count": 18,
   "metadata": {},
   "outputs": [
    {
     "data": {
      "text/plain": [
       "integrate! (generic function with 1 method)"
      ]
     },
     "execution_count": 18,
     "metadata": {},
     "output_type": "execute_result"
    }
   ],
   "source": [
    "Vector3d = SVector{3,Float64}\n",
    "Matrix3d = SMatrix{3,3,Float64}\n",
    "\n",
    "mutable struct RigidBodyVA\n",
    "    x::SVector{3,Float64}\n",
    "    R::SMatrix{3,3,Float64} # body to world transform wTb\n",
    "    m::Float64\n",
    "    I::SVector{3,Float64}   # bodyspace\n",
    "    v::SVector{3,Float64}\n",
    "    w::SVector{3,Float64}   # world space\n",
    "    q::Quaternion{Float64}\n",
    "end\n",
    "\n",
    "function setrotation!(rb, R::Matrix3d)\n",
    "    rb.R = R\n",
    "    rb.q = dcm_to_quat(R')\n",
    "end\n",
    "\n",
    "function setrotation!(rb, q::Quaternion{Float64})\n",
    "    rb.q = q\n",
    "    rb.R = quat_to_dcm(q)'\n",
    "end\n",
    "\n",
    "getrotation(rb) = rb.R\n",
    "\n",
    "RigidBodyVA(x,m=1.0,inertia=ones(3)) = RigidBodyVA(x, Matrix{Float64}(I, 3,3), m, inertia, \n",
    "                                                   zeros(3), zeros(3), Quaternion(1.0,0,0,0))\n",
    "\n",
    "\n",
    "skew(w::SVector{3,T}) where T = [0.0 -w[3] w[2];\n",
    "                                 w[3] 0.0  -w[1];\n",
    "                                 -w[2] w[1] 0.0]\n",
    "\n",
    "function inertia_tensor(box::SVector{3,Float64}, m::Float64)\n",
    "    x,y,z = box\n",
    "    (m/12.0) * Vector3d(y^2+z^2, x^2+z^2, x^2+y^2)\n",
    "end\n",
    "\n",
    "\n",
    "function wIw_implicit(ω₀, It, wTb, dt)\n",
    "    # one step of newtons method to solve for new angular velocity = f(ω′) = I(ω′-ω)+ω′xIω′*dt = 0\n",
    "    # df(ω′)/ω′ = I + (1xIω′+ω′xI)*dt\n",
    "    # df(ω) = I + (ωxI - Iωx1)*dt\n",
    "    w = wTb'*ω₀\n",
    "    Iw = It*w\n",
    "    f = cross(w,Iw)*dt \n",
    "    df = It + (skew(w)*It - skew(Iw))*dt\n",
    "   \n",
    "    ω′ = w - df\\f\n",
    "    wTb*ω′\n",
    "end\n",
    "\n",
    "function integrate!(rb::RigidBodyVA, dt::Float64)\n",
    "    rb.x += rb.v*dt\n",
    "    #wIw = cross(rb.w, rb.R*Diagonal(rb.I)*rb.R'*rb.w)\n",
    "    wIw = wIw_implicit(rb.w, Diagonal(rb.I), getrotation(rb), dt)\n",
    "    rb.w = wIw\n",
    "    #rb.w += rb.R*inv(Diagonal(rb.I))*rb.R'*wIw*dt\n",
    "    #rb.R += skew(rb.w)*rb.R*dt\n",
    "    q2 = rb.q + 0.5*dt*rb.w*rb.q\n",
    "    setrotation!(rb, q2/norm(q2))\n",
    "    \n",
    "    return rb\n",
    "end\n",
    "\n"
   ]
  },
  {
   "cell_type": "code",
   "execution_count": null,
   "metadata": {},
   "outputs": [],
   "source": [
    "# Optional: \n",
    "# These commands tell the Julia package manager to use the exact\n",
    "# set of dependencies specified in the Project.toml file in this folder. \n",
    "# That should give you a nice, reproducible environment for testing. \n",
    "\n",
    "using Pkg\n",
    "Pkg.activate(@__DIR__)\n",
    "Pkg.develop(Pkg.PackageSpec(path=dirname(@__DIR__)))\n",
    "Pkg.instantiate()"
   ]
  },
  {
   "cell_type": "code",
   "execution_count": null,
   "metadata": {},
   "outputs": [],
   "source": [
    "using MeshCat, GeometryBasics, CoordinateTransformations"
   ]
  },
  {
   "cell_type": "code",
   "execution_count": null,
   "metadata": {},
   "outputs": [],
   "source": [
    "vis = Visualizer()"
   ]
  },
  {
   "cell_type": "code",
   "execution_count": 9,
   "metadata": {
    "scrolled": true
   },
   "outputs": [
    {
     "data": {
      "text/html": [
       "    <div style=\"height: 500px; width: 100%; overflow-x: auto; overflow-y: hidden; resize: both\">\n",
       "    <iframe src=\"http://127.0.0.1:8700\" style=\"width: 100%; height: 100%; border: none\"></iframe>\n",
       "    </div>\n"
      ],
      "text/plain": [
       "MeshCat.DisplayedVisualizer(MeshCat.CoreVisualizer(MeshCat.SceneTrees.SceneNode(nothing, nothing, Dict{String,Array{UInt8,1}}(), UInt8[0x83, 0xa7, 0x6f, 0x70, 0x74, 0x69, 0x6f, 0x6e, 0x73, 0x82  …  0x5f, 0x61, 0x6e, 0x69, 0x6d, 0x61, 0x74, 0x69, 0x6f, 0x6e], Dict{String,MeshCat.SceneTrees.SceneNode}(\"meshcat\" => MeshCat.SceneTrees.SceneNode(nothing, nothing, Dict{String,Array{UInt8,1}}(), nothing, Dict{String,MeshCat.SceneTrees.SceneNode}(\"box1\" => MeshCat.SceneTrees.SceneNode(UInt8[0x83, 0xa6, 0x6f, 0x62, 0x6a, 0x65, 0x63, 0x74, 0x84, 0xaa  …  0x73, 0x68, 0x63, 0x61, 0x74, 0x2f, 0x62, 0x6f, 0x78, 0x31], nothing, Dict{String,Array{UInt8,1}}(), nothing, Dict{String,MeshCat.SceneTrees.SceneNode}()))))), Set{Any}(), ip\"127.0.0.1\", 8700))"
      ]
     },
     "execution_count": 9,
     "metadata": {},
     "output_type": "execute_result"
    }
   ],
   "source": [
    "render(vis)"
   ]
  },
  {
   "cell_type": "code",
   "execution_count": null,
   "metadata": {},
   "outputs": [],
   "source": [
    "box_radius = Vec(0.05,0.2,0.4)\n",
    "\n",
    "setobject!(vis[:box1], Rect(-box_radius, box_radius*2))"
   ]
  },
  {
   "cell_type": "code",
   "execution_count": 19,
   "metadata": {},
   "outputs": [],
   "source": [
    "anim = Animation()\n",
    "\n",
    "rb = RigidBodyVA(zeros(3))\n",
    "rb.x = [0,0,0]\n",
    "setrotation!(rb, Matrix3d(I))\n",
    "#[0.866  0  0.5\n",
    "       # 0      1  0\n",
    "       # -0.5      0  0.866]\n",
    "rb.w = [0.00,10,0.01]\n",
    "rb.v = [0.0,-0.1,0.0]\n",
    "rb.m = 10\n",
    "rb.I = inertia_tensor(Vector3d(2*box_radius), rb.m)\n",
    "\n",
    "atframe(anim, 0) do\n",
    "    # within the context of atframe, calls to \n",
    "    # `settransform!` and `setprop!` are intercepted\n",
    "    # and recorded in `anim` instead of having any\n",
    "    # effect on `vis`.\n",
    "    settransform!(vis[:box1], compose(Translation(rb.x...), LinearMap(rb.R)))\n",
    "end\n",
    "\n",
    "dt = 0.033\n",
    "\n",
    "for i in 1:30*24\n",
    "    atframe(anim, i) do\n",
    "        integrate!(rb, dt)\n",
    "        settransform!(vis[:box1], compose(Translation(rb.x...), LinearMap(rb.R)))\n",
    "    end\n",
    "end\n",
    "\n",
    "# `setanimation!()` actually sends the animation to the\n",
    "# viewer. By default, the viewer will play the animation\n",
    "# right away. To avoid that, you can also pass `play=false`. \n",
    "setanimation!(vis, anim)"
   ]
  },
  {
   "cell_type": "code",
   "execution_count": null,
   "metadata": {},
   "outputs": [],
   "source": []
  },
  {
   "cell_type": "code",
   "execution_count": null,
   "metadata": {},
   "outputs": [],
   "source": []
  }
 ],
 "metadata": {
  "kernelspec": {
   "display_name": "Julia 1.5.0",
   "language": "julia",
   "name": "julia-1.5"
  },
  "language_info": {
   "file_extension": ".jl",
   "mimetype": "application/julia",
   "name": "julia",
   "version": "1.5.0"
  }
 },
 "nbformat": 4,
 "nbformat_minor": 4
}
